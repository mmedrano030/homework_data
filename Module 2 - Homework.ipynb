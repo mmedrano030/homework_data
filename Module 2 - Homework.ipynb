{
 "cells": [
  {
   "cell_type": "markdown",
   "id": "c209b646",
   "metadata": {},
   "source": [
    "### Homework #2"
   ]
  },
  {
   "cell_type": "markdown",
   "id": "869ebfd6",
   "metadata": {},
   "source": [
    "1. Round 4.5667 to the nearest hundreth (2 decimals) using a build-in function, round()."
   ]
  },
  {
   "cell_type": "code",
   "execution_count": 1,
   "id": "123658aa",
   "metadata": {},
   "outputs": [
    {
     "data": {
      "text/plain": [
       "4.57"
      ]
     },
     "execution_count": 1,
     "metadata": {},
     "output_type": "execute_result"
    }
   ],
   "source": [
    "round(4.5667,2)"
   ]
  },
  {
   "cell_type": "markdown",
   "id": "9d3f352c",
   "metadata": {},
   "source": [
    "2. Convert \"657\" to an integer data type"
   ]
  },
  {
   "cell_type": "code",
   "execution_count": 4,
   "id": "d5a67683",
   "metadata": {},
   "outputs": [
    {
     "data": {
      "text/plain": [
       "657"
      ]
     },
     "execution_count": 4,
     "metadata": {},
     "output_type": "execute_result"
    }
   ],
   "source": [
    "int(\"657\")"
   ]
  },
  {
   "cell_type": "markdown",
   "id": "a36f06d4",
   "metadata": {},
   "source": [
    "3. Write a program to get two numbers from a user. Then, create a 6-digit code that is a series of randomly generated numbers between the two numbers given by the user. Print the 6-digit code so all digits are separated by a dash. "
   ]
  },
  {
   "cell_type": "code",
   "execution_count": 7,
   "id": "021c92d4",
   "metadata": {},
   "outputs": [
    {
     "name": "stdout",
     "output_type": "stream",
     "text": [
      "Number 1: 5\n",
      "Number 2: 25\n",
      "6-15-11-23-7-8\n"
     ]
    }
   ],
   "source": [
    "import random as rand\n",
    "number1 = int(input(\"Number 1: \"))\n",
    "number2 = int(input(\"Number 2: \"))\n",
    "a = rand.randint(number1,number2)\n",
    "b = rand.randint(number1,number2)\n",
    "c = rand.randint(number1,number2)\n",
    "d = rand.randint(number1,number2)\n",
    "e = rand.randint(number1,number2)\n",
    "f = rand.randint(number1,number2)\n",
    "print (f\"{a}-{b}-{c}-{d}-{e}-{f}\")"
   ]
  },
  {
   "cell_type": "markdown",
   "id": "ee1441a1",
   "metadata": {},
   "source": [
    "4. Write a program to remove ALL the white spaces from the following text:\n",
    "\n",
    "        Hickory, dickory, dock,     \n",
    "        The mouse ran up the clock.   \n",
    "        The clock struck one,   \n",
    "        The mouse ran down,                      \n",
    "        Hickory, dickory, dock                  "
   ]
  },
  {
   "cell_type": "code",
   "execution_count": 12,
   "id": "8bf680f1",
   "metadata": {},
   "outputs": [],
   "source": [
    "line1 = \"Hickory, dickory, dock,     \"\n",
    "line2 = \"The mouse ran up the clock.   \"\n",
    "line3 = \" The clock struck one,   \"\n",
    "line4 = \" The mouse ran down,               \"       \n",
    "line5 = \" Hickory, dickory, dock\""
   ]
  },
  {
   "cell_type": "code",
   "execution_count": 14,
   "id": "59d9c718",
   "metadata": {},
   "outputs": [
    {
     "name": "stdout",
     "output_type": "stream",
     "text": [
      "Hickory,dickory,dock,\n",
      "Themouseranuptheclock.\n",
      "Theclockstruckone,\n",
      "Themouserandown,\n",
      "Hickory,dickory,dock\n"
     ]
    }
   ],
   "source": [
    "print(line1.replace(\" \",\"\"))\n",
    "print(line2.replace(\" \",\"\"))\n",
    "print(line3.replace(\" \",\"\"))\n",
    "print(line4.replace(\" \",\"\"))\n",
    "print(line5.replace(\" \",\"\"))\n"
   ]
  },
  {
   "cell_type": "code",
   "execution_count": null,
   "id": "11c24618",
   "metadata": {},
   "outputs": [],
   "source": []
  },
  {
   "cell_type": "markdown",
   "id": "72d87b5b",
   "metadata": {},
   "source": [
    "5. Write a function to calculate the miles per gallon. Get a miles driven and gallons used from a user and call your function to calculate the miles per gallon."
   ]
  },
  {
   "cell_type": "code",
   "execution_count": 21,
   "id": "27be7372",
   "metadata": {},
   "outputs": [
    {
     "data": {
      "text/plain": [
       "2.5"
      ]
     },
     "execution_count": 21,
     "metadata": {},
     "output_type": "execute_result"
    }
   ],
   "source": [
    "def mile_gallon(m,g):\n",
    "    return(m/g)\n",
    "    \n",
    "mile_gallon (100,40)"
   ]
  },
  {
   "cell_type": "markdown",
   "id": "1f3942b8",
   "metadata": {},
   "source": [
    "6. Enhance the <b>compute()</b> function created during Module 2. Enhance the function to compute a circle's area and circumference where:\n",
    "\n",
    " - circle's area = 3.14 X (radius X radius)   \n",
    " - circle's circumference = 3.14 X diameter"
   ]
  },
  {
   "cell_type": "code",
   "execution_count": 23,
   "id": "df43daca",
   "metadata": {},
   "outputs": [
    {
     "name": "stdout",
     "output_type": "stream",
     "text": [
      "enter radius: 15\n",
      "enter diameter: 6\n",
      "Circle Area: 706.5\n",
      "Circle Circumference: 18.84\n"
     ]
    }
   ],
   "source": [
    "def compute (r,d):\n",
    "    c_area = 3.14 * (r*r)\n",
    "    c_circumference = 3.14 * d\n",
    "    print (f\"Circle Area: {c_area}\")\n",
    "    print (f\"Circle Circumference: {c_circumference}\")\n",
    "\n",
    "c_radius = int(input(\"enter radius: \"))\n",
    "c_diameter = int(input(\"enter diameter: \"))\n",
    "\n",
    "compute(c_radius,c_diameter)\n",
    "    "
   ]
  },
  {
   "cell_type": "code",
   "execution_count": null,
   "id": "fa8de89a",
   "metadata": {},
   "outputs": [],
   "source": []
  },
  {
   "cell_type": "markdown",
   "id": "4c5d83bb",
   "metadata": {},
   "source": [
    "7. Write a function called multiply_two() that accepts two parameters. The function should print a message like '15 * 2 = 30'.  Randomly generate two numbers between 1 and 100, then call the function with the two random numbers."
   ]
  },
  {
   "cell_type": "code",
   "execution_count": 69,
   "id": "fe5ca2dc",
   "metadata": {},
   "outputs": [
    {
     "name": "stdout",
     "output_type": "stream",
     "text": [
      "(81,54)\n",
      "81 * 54 = 4374 \n"
     ]
    }
   ],
   "source": [
    "import random as rand\n",
    "   \n",
    "c = rand.randint(1,100)\n",
    "d = rand.randint(1,100)\n",
    "print (f\"({c},{d})\")\n",
    "\n",
    "def multiply_two (a,b):\n",
    "    x= (a * b)\n",
    "    print(f\"{a} * {b} = {x} \")\n",
    "    \n",
    "multiply_two (c,d)"
   ]
  },
  {
   "cell_type": "code",
   "execution_count": null,
   "id": "9f83774c",
   "metadata": {},
   "outputs": [],
   "source": []
  },
  {
   "cell_type": "markdown",
   "id": "36865477",
   "metadata": {},
   "source": [
    "8. Create a function for a multiplication table.  Get a number from a user and then call you function which produces a multiplication table for that number.\n",
    "The output should look something like this:\n",
    "\n",
    "        Enter a number: 3\n",
    "        3 X 1 = 3\n",
    "        3 X 2 = 6\n",
    "        3 X 3 = 9\n",
    "        3 X 4 = 12\n",
    "        3 X 5 = 15\n",
    "        3 X 6 = 18\n",
    "        3 X 7 = 21\n",
    "        3 X 8 = 24\n",
    "        3 X 9 = 27"
   ]
  },
  {
   "cell_type": "code",
   "execution_count": 67,
   "id": "b023e863",
   "metadata": {},
   "outputs": [
    {
     "name": "stdout",
     "output_type": "stream",
     "text": [
      "Enter a number: 3\n",
      "3 x 1 =  3\n",
      "3 x 2 =  6\n",
      "3 x 3 =  9\n",
      "3 x 4 =  12\n",
      "3 x 5 =  15\n",
      "3 x 6 =  18\n",
      "3 x 7 =  21\n",
      "3 x 8 =  24\n",
      "3 x 9 =  27\n"
     ]
    }
   ],
   "source": [
    "def multiplication_table():\n",
    "    Numb = int(input(\"Enter a number: \"))\n",
    "    print (f\"{Numb} x 1 =  {Numb * 1}\")\n",
    "    print (f\"{Numb} x 2 =  {Numb * 2}\")\n",
    "    print (f\"{Numb} x 3 =  {Numb * 3}\")\n",
    "    print (f\"{Numb} x 4 =  {Numb * 4}\")\n",
    "    print (f\"{Numb} x 5 =  {Numb * 5}\")\n",
    "    print (f\"{Numb} x 6 =  {Numb * 6}\")\n",
    "    print (f\"{Numb} x 7 =  {Numb * 7}\")\n",
    "    print (f\"{Numb} x 8 =  {Numb * 8}\")\n",
    "    print (f\"{Numb} x 9 =  {Numb * 9}\")\n",
    "    \n",
    "    \n",
    "    \n",
    "         \n",
    "           \n",
    "multiplication_table()           "
   ]
  },
  {
   "cell_type": "code",
   "execution_count": null,
   "id": "563c8445",
   "metadata": {},
   "outputs": [],
   "source": []
  }
 ],
 "metadata": {
  "kernelspec": {
   "display_name": "Python 3 (ipykernel)",
   "language": "python",
   "name": "python3"
  },
  "language_info": {
   "codemirror_mode": {
    "name": "ipython",
    "version": 3
   },
   "file_extension": ".py",
   "mimetype": "text/x-python",
   "name": "python",
   "nbconvert_exporter": "python",
   "pygments_lexer": "ipython3",
   "version": "3.9.13"
  }
 },
 "nbformat": 4,
 "nbformat_minor": 5
}
