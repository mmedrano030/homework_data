{
 "cells": [
  {
   "cell_type": "code",
   "execution_count": 1,
   "id": "feb43911",
   "metadata": {},
   "outputs": [
    {
     "name": "stdout",
     "output_type": "stream",
     "text": [
      "Enter Rock, Paper or Scissors :Scissors\n",
      "Computer Paper\n",
      "You win!\n",
      "DO YOU WANT TO CONTINUE? N\n",
      "Goodbye\n"
     ]
    }
   ],
   "source": [
    "import random as rand\n",
    "rand.randint(1,4)\n",
    "\n",
    "def RPS():\n",
    "    response= \"Y\"\n",
    "    computer = {1: \"Rock\", 2:\"Paper\", 3:\"Scissors\"}\n",
    "    while response !=\"N\":\n",
    "        user_choice = input(\"Enter Rock, Paper or Scissors :\")\n",
    "        x=rand.randint(1,3)\n",
    "        cvalue=computer[x] \n",
    "        print (f\"Computer {cvalue}\")\n",
    "        if (user_choice == \"Rock\" and cvalue==\"Scissors\"):\n",
    "            print (\"You win!\")\n",
    "        elif (user_choice == \"Scissors\" and cvalue==\"Paper\"):\n",
    "            print (\"You win!\")\n",
    "        elif (user_choice == \"Paper\" and cvalue==\"Rock\"):\n",
    "            print (\"You win!\")\n",
    "        elif user_choice == cvalue:\n",
    "            print (\"It's a draw\")\n",
    "        else:\n",
    "            print (\"You lose\")\n",
    "        response = input (\"DO YOU WANT TO CONTINUE? \")\n",
    "    else:\n",
    "        print (\"Goodbye\")\n",
    "RPS()"
   ]
  },
  {
   "cell_type": "code",
   "execution_count": null,
   "id": "13b0975e",
   "metadata": {},
   "outputs": [],
   "source": []
  }
 ],
 "metadata": {
  "kernelspec": {
   "display_name": "Python 3 (ipykernel)",
   "language": "python",
   "name": "python3"
  },
  "language_info": {
   "codemirror_mode": {
    "name": "ipython",
    "version": 3
   },
   "file_extension": ".py",
   "mimetype": "text/x-python",
   "name": "python",
   "nbconvert_exporter": "python",
   "pygments_lexer": "ipython3",
   "version": "3.9.13"
  }
 },
 "nbformat": 4,
 "nbformat_minor": 5
}
