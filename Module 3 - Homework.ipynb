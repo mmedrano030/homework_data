{
 "cells": [
  {
   "cell_type": "markdown",
   "metadata": {},
   "source": [
    "### Exercise 1\n",
    "Ask a user for 5 names and place each one in to a list called <i>names</i>. Then, print <i>names</i>."
   ]
  },
  {
   "cell_type": "code",
   "execution_count": 11,
   "metadata": {},
   "outputs": [
    {
     "name": "stdout",
     "output_type": "stream",
     "text": [
      "name 1: Mary\n",
      "name 2: John\n",
      "name 3: Peter\n",
      "name 4: Louis\n",
      "name 5: Alex\n",
      "['Mary', 'John', 'Peter', 'Louis', 'Alex']\n"
     ]
    }
   ],
   "source": [
    "name1= input(\"name 1: \")\n",
    "name2= input(\"name 2: \") \n",
    "name3= input(\"name 3: \") \n",
    "name4= input(\"name 4: \") \n",
    "name5= input(\"name 5: \") \n",
    "names = [name1, name2, name3, name4, name5]    \n",
    "print (names)\n",
    "\n"
   ]
  },
  {
   "cell_type": "markdown",
   "metadata": {},
   "source": [
    "### Exercise 2\n",
    "Print out a randomly selected name in the names list."
   ]
  },
  {
   "cell_type": "code",
   "execution_count": 17,
   "metadata": {},
   "outputs": [
    {
     "data": {
      "text/plain": [
       "'louis'"
      ]
     },
     "execution_count": 17,
     "metadata": {},
     "output_type": "execute_result"
    }
   ],
   "source": [
    "import random as rand\n",
    "c= rand.randint(0,4)\n",
    "names[c]\n",
    "\n",
    "\n"
   ]
  },
  {
   "cell_type": "markdown",
   "metadata": {},
   "source": [
    "### Exercise 3\n",
    "\n",
    "Ask a user for a specific color and store that value into a variable. If the answer is gray, print \"You found Victor's favorite color!\". If the answer is anything besides gray, print \"[color name] is not Victor's favorite color.\""
   ]
  },
  {
   "cell_type": "code",
   "execution_count": 22,
   "metadata": {},
   "outputs": [
    {
     "name": "stdout",
     "output_type": "stream",
     "text": [
      "Color 1: pink\n",
      "pink is not Victor's favorite color\n"
     ]
    }
   ],
   "source": [
    "color1= input(\"Color 1: \")\n",
    "if color1==\"gray\":\n",
    "    print(\"You found Victor's favororite color\")\n",
    "else:\n",
    "    print (f\"{color1} is not Victor's favorite color\")"
   ]
  },
  {
   "cell_type": "markdown",
   "metadata": {},
   "source": [
    "### Exercise 4\n",
    "Ask for an exam score and store that number. If the number is greater than 100, then print out 'You cannot have an exam score higher than 100'. If the number doesn't exceeed 100 but is greater than or equal to 75, then print out 'You did great on your exam!'. Otherwise if they scored lower than 75, then print out 'You need to study harder'."
   ]
  },
  {
   "cell_type": "code",
   "execution_count": 49,
   "metadata": {},
   "outputs": [
    {
     "name": "stdout",
     "output_type": "stream",
     "text": [
      "Exam score: 78\n",
      "You did great on your exam!\n"
     ]
    }
   ],
   "source": [
    "score= int(input(\"Exam score: \"))\n",
    "if score> 100:\n",
    "     print (\"You cannot have an exam score higher than 100\")\n",
    "elif score >=75 and score <=100:\n",
    "      print (\"You did great on your exam!\")\n",
    "elif score< 75:\n",
    "     print (\"You need to study harder!\")\n",
    "    "
   ]
  },
  {
   "cell_type": "markdown",
   "metadata": {},
   "source": [
    "### Exercise 5\n",
    "Write a function to convert a test score to a grade where  \n",
    " - 90 - 100: A\n",
    " - 80 - 89:  B\n",
    " - 70 - 79:  C\n",
    " - 60 - 69:  D\n",
    " - < 60   :  F\n",
    " \n",
    "If a score is not between 0 and 100 then print out an error message. In the program, ask the user for a score and then call your function. "
   ]
  },
  {
   "cell_type": "code",
   "execution_count": 62,
   "metadata": {},
   "outputs": [
    {
     "name": "stdout",
     "output_type": "stream",
     "text": [
      "Enter your score: 120\n",
      "There is an error\n"
     ]
    }
   ],
   "source": [
    "def grade1 (score):\n",
    "    grade=\"\"\n",
    "    if score>=90 and score<=100:\n",
    "        grade = \"A\"\n",
    "        print (f\"Your grade is: {grade}\")\n",
    "    elif score>=80 and score<=89:\n",
    "        grade = \"B\"\n",
    "        print (f\"Your grade is: {grade}\")\n",
    "    elif score>=70 and score<=79:\n",
    "        grade = \"C\"\n",
    "        print (f\"Your grade is: {grade}\")\n",
    "    elif score>=60 and score<=69:\n",
    "        grade = \"D\"\n",
    "        print (grade)\n",
    "    elif score>=0 and score<=59:\n",
    "        grade = \"F\"\n",
    "        print (f\"Your grade is: {grade}\")\n",
    "    else:\n",
    "        grade = \"Error\"\n",
    "        print (f\"There is an error\")\n",
    "        \n",
    "    \n",
    "score1 = int(input(\"Enter your score: \"))\n",
    "grade1 (score1)\n",
    "\n",
    "\n",
    "        "
   ]
  },
  {
   "cell_type": "code",
   "execution_count": 63,
   "metadata": {},
   "outputs": [
    {
     "name": "stdout",
     "output_type": "stream",
     "text": [
      "Enter your score: 89\n",
      "Your grade is: C\n"
     ]
    }
   ],
   "source": [
    "def grade1 (score):\n",
    "    grade=\"\"\n",
    "    if score>100 and score<0:\n",
    "        print (\"ERROR\")\n",
    "    elif score>=90:\n",
    "        grade = \"B\"\n",
    "        print (f\"Your grade is: {grade}\")\n",
    "    elif score>=80:\n",
    "        grade = \"C\"\n",
    "        print (f\"Your grade is: {grade}\")\n",
    "    elif score>=70:\n",
    "        grade = \"D\"\n",
    "        print (grade)\n",
    "    elif score>=60:\n",
    "        grade = \"F\"\n",
    "        print (f\"Your grade is: {grade}\")\n",
    "    else:\n",
    "        grade = \"Error\"\n",
    "        print (f\"There is an error\")\n",
    "        \n",
    "    \n",
    "score1 = int(input(\"Enter your score: \"))\n",
    "grade1 (score1)"
   ]
  },
  {
   "cell_type": "code",
   "execution_count": null,
   "metadata": {},
   "outputs": [],
   "source": []
  },
  {
   "cell_type": "code",
   "execution_count": null,
   "metadata": {},
   "outputs": [],
   "source": []
  }
 ],
 "metadata": {
  "kernelspec": {
   "display_name": "Python 3 (ipykernel)",
   "language": "python",
   "name": "python3"
  },
  "language_info": {
   "codemirror_mode": {
    "name": "ipython",
    "version": 3
   },
   "file_extension": ".py",
   "mimetype": "text/x-python",
   "name": "python",
   "nbconvert_exporter": "python",
   "pygments_lexer": "ipython3",
   "version": "3.9.13"
  }
 },
 "nbformat": 4,
 "nbformat_minor": 4
}
