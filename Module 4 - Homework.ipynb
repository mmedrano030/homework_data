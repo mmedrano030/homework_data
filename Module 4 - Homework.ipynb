{
 "cells": [
  {
   "cell_type": "markdown",
   "metadata": {},
   "source": [
    "### Exercise 1: \n",
    "\n",
    "Review the code in the following cell. This programmer was attempting to create a list of numbers and a list of even numbers between two values given by a user. The numbers list should include all numbers, and the evens list should include only even numbers. Use what you learned in Module 4 to fix the code and run it successfully!"
   ]
  },
  {
   "cell_type": "code",
   "execution_count": 18,
   "metadata": {},
   "outputs": [
    {
     "name": "stdout",
     "output_type": "stream",
     "text": [
      "Enter a starting number: 0\n",
      "Enter an ending number: 6\n",
      "[0, 1, 2, 3, 4, 5]\n",
      "[0, 2, 4]\n"
     ]
    }
   ],
   "source": [
    "numbers = []\n",
    "evens   = []\n",
    "no1     = int(input(\"Enter a starting number: \"))\n",
    "no2     = int(input(\"Enter an ending number: \"))\n",
    "\n",
    "for i in range(no1,no2):\n",
    "    numbers.append(i) \n",
    "    if (i % 2) == 0:\n",
    "        evens.append(i)\n",
    "    \n",
    "print(numbers)    \n",
    "print(evens)"
   ]
  },
  {
   "cell_type": "markdown",
   "metadata": {},
   "source": [
    "### Exercise 2:\n",
    "\n",
    "Define a function called <b>draw_triangle()</b> to draw a right triangle where the base of the triangle is the number given by a user and the rest of the triangle builds to the base value. Use the function to show that it works. \n",
    "\n",
    "e.g. <b>draw_triangle(7)</b> draws as below:\n",
    "\n",
    "    *\n",
    "    **\n",
    "    ***\n",
    "    ****\n",
    "    *****\n",
    "    ******\n",
    "    *******\n"
   ]
  },
  {
   "cell_type": "code",
   "execution_count": 19,
   "metadata": {},
   "outputs": [],
   "source": [
    "### finish the code below ###\n",
    "\n",
    "def draw_triangle():\n",
    "  base = int(input(\"Enter a number: \"))\n",
    "  for x in range (0,base):\n",
    "        print (\"*\"*x)\n"
   ]
  },
  {
   "cell_type": "code",
   "execution_count": 22,
   "metadata": {},
   "outputs": [
    {
     "name": "stdout",
     "output_type": "stream",
     "text": [
      "Enter a number: 8\n",
      "\n",
      "*\n",
      "**\n",
      "***\n",
      "****\n",
      "*****\n",
      "******\n",
      "*******\n"
     ]
    }
   ],
   "source": [
    "draw_triangle()"
   ]
  },
  {
   "cell_type": "markdown",
   "metadata": {},
   "source": [
    "### Exercise 3:\n",
    "\n",
    "A furniture store organizes all items by the section of the store they are stored in. Each section has a number cooresponding to that section. A new branch of the furniture store is opening up, and it's up to you to quickly organize the merchandise into different sections. Create a list of numbers ranging from 1 - 5. Create a list of any three furniture items (i.e. table, lamp, etc). \n",
    "\n",
    "Using a for-loop, return a list of furniture items. Next to each furniture item should be the number of the section of the store the furniture item should be stored (i.e. 3 table, 3 lamp, 3 chair)."
   ]
  },
  {
   "cell_type": "code",
   "execution_count": 34,
   "metadata": {},
   "outputs": [
    {
     "name": "stdout",
     "output_type": "stream",
     "text": [
      "1 table\n",
      "1 chairs\n",
      "1 lamp\n",
      "2 table\n",
      "2 chairs\n",
      "2 lamp\n",
      "3 table\n",
      "3 chairs\n",
      "3 lamp\n",
      "4 table\n",
      "4 chairs\n",
      "4 lamp\n",
      "5 table\n",
      "5 chairs\n",
      "5 lamp\n"
     ]
    }
   ],
   "source": [
    "numbers = [1,2,3,4,5]\n",
    "items   = [\"table\", \"chairs\",\"lamp\"]\n",
    "for x in numbers:\n",
    "    for y in items:\n",
    "        print (f\"{x} {y}\")"
   ]
  },
  {
   "cell_type": "code",
   "execution_count": null,
   "metadata": {},
   "outputs": [],
   "source": []
  },
  {
   "cell_type": "markdown",
   "metadata": {},
   "source": [
    "### Exercise 4:\n",
    "\n",
    "What is the highest value \"a\" can be for the following code to return a value of \"3\"?"
   ]
  },
  {
   "cell_type": "code",
   "execution_count": 36,
   "metadata": {},
   "outputs": [
    {
     "name": "stdout",
     "output_type": "stream",
     "text": [
      "3\n"
     ]
    }
   ],
   "source": [
    "x = 0\n",
    "a = 5\n",
    "b = 5\n",
    "\n",
    "###\n",
    "\n",
    "if a > 0:\n",
    "    if b < 0:\n",
    "        x = x + 5\n",
    "    elif a > 5:\n",
    "        x = x + 4\n",
    "    else:\n",
    "        x = x + 3\n",
    "else: \n",
    "    x = x + 2\n",
    "print(x)"
   ]
  },
  {
   "cell_type": "code",
   "execution_count": null,
   "metadata": {},
   "outputs": [],
   "source": []
  }
 ],
 "metadata": {
  "kernelspec": {
   "display_name": "Python 3 (ipykernel)",
   "language": "python",
   "name": "python3"
  },
  "language_info": {
   "codemirror_mode": {
    "name": "ipython",
    "version": 3
   },
   "file_extension": ".py",
   "mimetype": "text/x-python",
   "name": "python",
   "nbconvert_exporter": "python",
   "pygments_lexer": "ipython3",
   "version": "3.9.13"
  }
 },
 "nbformat": 4,
 "nbformat_minor": 4
}
